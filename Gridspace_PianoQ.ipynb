{
 "cells": [
  {
   "cell_type": "code",
   "execution_count": 4,
   "id": "0a8c83a9",
   "metadata": {},
   "outputs": [],
   "source": [
    "import math\n",
    "import wave\n",
    "import struct\n",
    "\n",
    "sample_rate = 44100.0\n",
    "line = []\n",
    "\n",
    "def make_note(freq):\n",
    "    ticks = sample_rate / 1.5\n",
    "    for x in range(int(ticks)):\n",
    "        line.append(math.sin(2 * math.pi * freq * ( x / sample_rate )))\n",
    "    return\n",
    "\n",
    "def output(file_name):\n",
    "    my_file = wave.open(file_name,\"w\")\n",
    "    chan = 1\n",
    "    wid = 2\n",
    "    sounds = len(line)\n",
    "    my_file.setparams((chan, wid, sample_rate, sounds, \"NONE\", \"not compressed\"))\n",
    "    for sample in line:\n",
    "        my_file.writeframes(struct.pack('h', int( sample * 32767.0 )))\n",
    "    my_file.close()\n",
    "    return\n",
    "\n",
    "make_note(392.00)\n",
    "make_note(659.25)\n",
    "make_note(523.25)\n",
    "output(\"output.wav\")\n"
   ]
  },
  {
   "cell_type": "code",
   "execution_count": null,
   "id": "12efde2f",
   "metadata": {},
   "outputs": [],
   "source": []
  }
 ],
 "metadata": {
  "kernelspec": {
   "display_name": "Python 3 (ipykernel)",
   "language": "python",
   "name": "python3"
  },
  "language_info": {
   "codemirror_mode": {
    "name": "ipython",
    "version": 3
   },
   "file_extension": ".py",
   "mimetype": "text/x-python",
   "name": "python",
   "nbconvert_exporter": "python",
   "pygments_lexer": "ipython3",
   "version": "3.9.7"
  }
 },
 "nbformat": 4,
 "nbformat_minor": 5
}
